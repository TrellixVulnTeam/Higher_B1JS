{
 "cells": [
  {
   "cell_type": "code",
   "execution_count": 1,
   "metadata": {},
   "outputs": [],
   "source": [
    "#pip install torchsummary"
   ]
  },
  {
   "cell_type": "code",
   "execution_count": 1,
   "metadata": {},
   "outputs": [],
   "source": [
    "# import os\n",
    "# os.environ[\"CUDA_DEVICE_ORDER\"] = \"PCI_BUS_ID\"\n",
    "# # For mutliple devices (GPUs: 4, 5, 6, 7)\n",
    "# os.environ[\"CUDA_VISIBLE_DEVICES\"] = \"7\"\n",
    "from models import resnet"
   ]
  },
  {
   "cell_type": "code",
   "execution_count": 2,
   "metadata": {},
   "outputs": [
    {
     "name": "stdout",
     "output_type": "stream",
     "text": [
      "Files already downloaded and verified\n"
     ]
    }
   ],
   "source": [
    "import random\n",
    "import numpy as np\n",
    "import torch\n",
    "from torch import nn, optim\n",
    "import learn2learn as l2l\n",
    "from torchvision.models import resnet18\n",
    "import torchvision\n",
    "from torchvision import transforms\n",
    "from learn2learn.data import TaskDataset\n",
    "from learn2learn.data.transforms import (NWays,\n",
    "                                         KShots,\n",
    "                                         LoadData,\n",
    "                                         RemapLabels,\n",
    "                                         ConsecutiveLabels)\n",
    "import torch.nn.functional as F\n",
    "import random\n",
    "from torchsummary import torchsummary\n",
    "import higher\n",
    "\n",
    "from jupyterplot import ProgressPlot\n",
    "import numpy as np\n",
    "import time\n",
    "import mlogger\n",
    "import utils\n",
    "import argparse\n"
   ]
  },
  {
   "cell_type": "code",
   "execution_count": 3,
   "metadata": {},
   "outputs": [],
   "source": [
    "# import sys,os,argparse\n",
    "# # def arg_parser():\n",
    "    \n",
    "# parser = argparse.ArgumentParser('MAML with Higher')\n",
    "\n",
    "# # General\n",
    "# general_params = parser.add_argument_group('General')\n",
    "# general_params.add_argument('--data', type=str, default=\"./data\",\n",
    "#                             help='Path to the folder the data is downloaded to.')\n",
    "# general_params.add_argument('--dataset', type=str,\n",
    "#                             choices=[\"omniglot\", \"mini-imagenet\", \"fc100\",\n",
    "#                                      \"cifarfs\", \"tiered-imagenet\"], default='omniglot',\n",
    "#                             help='Name of the dataset (default: omniglot).')\n",
    "\n",
    "# meta_params = parser.add_argument_group('Meta Learning Parameters')\n",
    "# meta_params.add_argument('--ways', type=int, default=5,\n",
    "#                             help='Number of classes per task (N in \"N-way\", default: 5).')\n",
    "# meta_params.add_argument('--shots', type=int, default=1,\n",
    "#                             help='Number of training example per class (k in \"k-shot\", default: 5).')\n",
    "# meta_params.add_argument('--adaptation-steps', type=int, default=1,\n",
    "#                             help='Number of adaptation steps on meta-train datasets.')\n",
    "# meta_params.add_argument('--num-tasks', type=int, default=32,\n",
    "#                           help='Number of tasks to sample from task distribution.')\n",
    "# meta_params.add_argument('--first-order', action='store_true',\n",
    "#                           help='Use the first order approximation, do not use highers-order '\n",
    "#                                'derivatives during meta-optimization.')\n",
    "# meta_params.add_argument('--meta-lr', type=float, default=0.001,\n",
    "#                           help='Learning rate for the meta-optimizer (optimization of the outer '\n",
    "#                                'loss). The default optimizer is Adam (default: 1e-3).')\n",
    "# meta_params.add_argument('--fast-lr', type=float, default=0.1,\n",
    "#                           help='Learning rate for the meta-optimizer (optimization of the outer '\n",
    "#                                'loss). The default optimizer is Adam (default: 1e-3).')\n",
    "# meta_params.add_argument('--num-test-task', type=int, default=32,\n",
    "#                             help='Number of test task used to calculate meta test and meta val')\n",
    "\n",
    "\n",
    "# # Model\n",
    "# model_params = parser.add_argument_group('Model')\n",
    "# model_params.add_argument('--input', type=int, default=32,\n",
    "#                           help='Input to dimension')\n",
    "# model_params.add_argument('--fine-tune', type=int, default=0,\n",
    "#                           help='Only meta learn the FC layer')\n",
    "\n",
    "# # Optimization\n",
    "# optim_params = parser.add_argument_group('Optimization')\n",
    "# optim_params.add_argument('--num-epochs', type=int, default=50000,\n",
    "#                           help='Number of epochs of meta-training (default: 50000).')\n",
    "# optim_params.add_argument('--seed', type=int, default=utils.fix_seeds(),\n",
    "#                           help='Number of epochs of meta-training (default: 101).')\n",
    "\n",
    "\n",
    "\n",
    "\n",
    "# # Misc\n",
    "# misc = parser.add_argument_group('Misc')\n",
    "# misc.add_argument('--num-workers', type=int, default=4,\n",
    "#                   help='Number of workers to use for data-loading (default: 1).')\n",
    "# misc.add_argument('--device', type=str, default=utils.get_compute_device(), help=\"Compute device information\")\n",
    "\n",
    "\n",
    "# # Visualization\n",
    "# viz = parser.add_argument_group('Misc')\n",
    "# viz.add_argument('--wand_project', type=str, default=\"Github_Rapo\",\n",
    "#                   help='Wandb project name should go here')\n",
    "# viz.add_argument('--username', type=str, default=\"hikmatkhan\",\n",
    "#                   help='Wandb username should go here')\n",
    "# viz.add_argument('--wandb_logging', type=bool, default=True,\n",
    "#                   help='If True, Logs will be reported on wandb.')\n",
    "# viz.add_argument('--verbose', action='store_true')\n",
    "# #     args = parser.parse_args()\n",
    "# #     return parser.parse_args()\n",
    "# # args = parser.parse_args()\n"
   ]
  },
  {
   "cell_type": "code",
   "execution_count": 4,
   "metadata": {},
   "outputs": [],
   "source": [
    "# def main(argv):\n",
    "#     print(argv)\n",
    "    \n",
    "# main(sys.argv)"
   ]
  },
  {
   "cell_type": "code",
   "execution_count": 4,
   "metadata": {},
   "outputs": [
    {
     "name": "stdout",
     "output_type": "stream",
     "text": [
      "Device: cuda\n"
     ]
    }
   ],
   "source": [
    "#No randomization\n",
    "seed = 101\n",
    "random.seed(seed)\n",
    "np.random.seed(seed)\n",
    "torch.manual_seed(seed)\n",
    "device = torch.device('cpu')\n",
    "if torch.cuda.device_count():\n",
    "    torch.cuda.manual_seed(seed)\n",
    "    device = torch.device('cuda')\n",
    "    print(\"Device:\", device)"
   ]
  },
  {
   "cell_type": "code",
   "execution_count": 6,
   "metadata": {},
   "outputs": [],
   "source": [
    "# #Dataset\n",
    "# # transforms\n",
    "# transform = transforms.Compose(\n",
    "#     [transforms.ToTensor(),\n",
    "#     transforms.Normalize((0.5,), (0.5,))])\n",
    "\n",
    "# dataset = torchvision.datasets.MNIST(root=\"data\", train=True, download=True, transform=transform)\n",
    "\n"
   ]
  },
  {
   "cell_type": "code",
   "execution_count": 8,
   "metadata": {},
   "outputs": [],
   "source": [
    "# #MetaDataset MNIST or Custom Dataset\n",
    "# dataset = l2l.data.MetaDataset(dataset)\n",
    "# ways = 10\n",
    "# shots = 1\n",
    "# transforms = [\n",
    "#     NWays(dataset, n=ways),\n",
    "#     KShots(dataset, k=shots),\n",
    "#     LoadData(dataset),\n",
    "# ]\n",
    "# tasksets = TaskDataset(dataset, transforms, num_tasks=5)\n",
    "# # MetaDataset Sampling\n",
    "# for task in tasksets:\n",
    "#     X, y = task\n",
    "#     print(y)"
   ]
  },
  {
   "cell_type": "code",
   "execution_count": 9,
   "metadata": {},
   "outputs": [
    {
     "name": "stdout",
     "output_type": "stream",
     "text": [
      "Files already downloaded and verified\n",
      "Files already downloaded and verified\n"
     ]
    }
   ],
   "source": [
    "#Builtin-MetaDatasets\n",
    "dataset_name = \"omniglot\"\n",
    "# \"omniglot\"\n",
    "# \"mini-imagenet\", \n",
    "# \"fc100\", \n",
    "# \"cifarfs\", \n",
    "# \"tiered-imagenet\"\n",
    "\n",
    "ways = 5\n",
    "shots = 1\n",
    "meta_batch= 8\n",
    "# Create Tasksets using the benchmark interface\n",
    "tasksets = l2l.vision.benchmarks.get_tasksets(dataset_name,\n",
    "                                              train_samples=2*shots,\n",
    "                                              train_ways=ways,\n",
    "                                              test_samples=2*shots,\n",
    "                                              test_ways=ways,\n",
    "                                              root='~/data',\n",
    "                                              num_tasks=-1)"
   ]
  },
  {
   "cell_type": "code",
   "execution_count": 10,
   "metadata": {},
   "outputs": [],
   "source": [
    "# Separate data into adaptation/evalutation sets\n",
    "# adaptation_indices = np.zeros(X.size(0), dtype=bool)\n",
    "# adaptation_indices[np.arange(shots*ways) * 2] = True\n",
    "# evaluation_indices = torch.from_numpy(~adaptation_indices)\n",
    "# adaptation_indices = torch.from_numpy(adaptation_indices)\n"
   ]
  },
  {
   "cell_type": "code",
   "execution_count": 11,
   "metadata": {},
   "outputs": [
    {
     "name": "stdout",
     "output_type": "stream",
     "text": [
      "X.size: torch.Size([10, 1, 28, 28])\n"
     ]
    },
    {
     "data": {
      "text/plain": [
       "<matplotlib.image.AxesImage at 0x7f2778bdc128>"
      ]
     },
     "execution_count": 11,
     "metadata": {},
     "output_type": "execute_result"
    },
    {
     "data": {
      "image/png": "[encoded data removed]",
      "text/plain": [
       "<Figure size 432x288 with 1 Axes>"
      ]
     },
     "metadata": {
      "needs_background": "light"
     },
     "output_type": "display_data"
    }
   ],
   "source": [
    "import matplotlib.pylab as plt\n",
    "from torchvision import utils\n",
    "X, y = tasksets.train.sample()\n",
    "print(\"X.size:\", X.size())\n",
    "grid = utils.make_grid(X, nrow=shots * 2)\n",
    "plt.imshow(grid.numpy().transpose((1, 2, 0)))"
   ]
  },
  {
   "cell_type": "code",
   "execution_count": 5,
   "metadata": {},
   "outputs": [],
   "source": [
    "def get_indices(X, ways, shots):\n",
    "    # Separate data into Meta-Train/Meta-Test sets\n",
    "    meta_train_indices = np.zeros(X.size(0), dtype=bool)\n",
    "    # print(\"X:\", X.size())\n",
    "    meta_train_indices[np.arange(shots * ways) * 2] = True\n",
    "    meta_test_indices = torch.from_numpy(~meta_train_indices)\n",
    "    meta_train_indices = torch.from_numpy(meta_train_indices)\n",
    "    return meta_train_indices, meta_test_indices\n",
    "\n",
    "def accuracy(predictions, targets):\n",
    "    predictions = predictions.argmax(dim=1).view(targets.shape)\n",
    "    return (predictions == targets).sum().float() / targets.size(0)"
   ]
  },
  {
   "cell_type": "code",
   "execution_count": 13,
   "metadata": {},
   "outputs": [
    {
     "data": {
      "text/plain": [
       "<matplotlib.image.AxesImage at 0x7f277872e198>"
      ]
     },
     "execution_count": 13,
     "metadata": {},
     "output_type": "execute_result"
    },
    {
     "data": {
      "image/png": "[encoded data removed]",
      "text/plain": [
       "<Figure size 432x288 with 1 Axes>"
      ]
     },
     "metadata": {
      "needs_background": "light"
     },
     "output_type": "display_data"
    }
   ],
   "source": [
    "meta_train_indices, meta_test_indices = get_indices(X=X, ways=ways, shots=shots)\n",
    "#Adaptation Data\n",
    "grid = utils.make_grid(X[meta_train_indices], nrow=shots)\n",
    "plt.imshow(grid.numpy().transpose((1, 2, 0)))"
   ]
  },
  {
   "cell_type": "code",
   "execution_count": 14,
   "metadata": {},
   "outputs": [
    {
     "data": {
      "text/plain": [
       "<matplotlib.image.AxesImage at 0x7f27786970b8>"
      ]
     },
     "execution_count": 14,
     "metadata": {},
     "output_type": "execute_result"
    },
    {
     "data": {
      "image/png": "[encoded data removed]",
      "text/plain": [
       "<Figure size 432x288 with 1 Axes>"
      ]
     },
     "metadata": {
      "needs_background": "light"
     },
     "output_type": "display_data"
    }
   ],
   "source": [
    "#Adaptation Data\n",
    "grid = utils.make_grid(X[meta_test_indices], nrow=shots)\n",
    "plt.imshow(grid.numpy().transpose((1, 2, 0)))"
   ]
  },
  {
   "cell_type": "code",
   "execution_count": 15,
   "metadata": {},
   "outputs": [
    {
     "name": "stdout",
     "output_type": "stream",
     "text": [
      "Validation: tensor([3, 3, 0, 0, 4, 4, 1, 1, 2, 2])\n"
     ]
    },
    {
     "data": {
      "text/plain": [
       "<matplotlib.image.AxesImage at 0x7f27785fe2b0>"
      ]
     },
     "execution_count": 15,
     "metadata": {},
     "output_type": "execute_result"
    },
    {
     "data": {
      "image/png": "[encoded data removed]",
      "text/plain": [
       "<Figure size 432x288 with 1 Axes>"
      ]
     },
     "metadata": {
      "needs_background": "light"
     },
     "output_type": "display_data"
    }
   ],
   "source": [
    "X, y = tasksets.validation.sample()\n",
    "print(\"Validation:\", y)\n",
    "grid = utils.make_grid(X, nrow=shots*2)\n",
    "plt.imshow(grid.numpy().transpose((1, 2, 0)))"
   ]
  },
  {
   "cell_type": "code",
   "execution_count": 16,
   "metadata": {},
   "outputs": [
    {
     "name": "stdout",
     "output_type": "stream",
     "text": [
      "Test: tensor([1, 1, 0, 0, 4, 4, 2, 2, 3, 3])\n"
     ]
    },
    {
     "data": {
      "text/plain": [
       "<matplotlib.image.AxesImage at 0x7f27785d9f98>"
      ]
     },
     "execution_count": 16,
     "metadata": {},
     "output_type": "execute_result"
    },
    {
     "data": {
      "image/png": "[encoded data removed]",
      "text/plain": [
       "<Figure size 432x288 with 1 Axes>"
      ]
     },
     "metadata": {
      "needs_background": "light"
     },
     "output_type": "display_data"
    }
   ],
   "source": [
    "X, y = tasksets.test.sample()\n",
    "print(\"Test:\", y)\n",
    "grid = utils.make_grid(X, nrow=shots * 2)\n",
    "plt.imshow(grid.numpy().transpose((1, 2, 0)))"
   ]
  },
  {
   "cell_type": "code",
   "execution_count": 4,
   "metadata": {
    "scrolled": true
   },
   "outputs": [
    {
     "ename": "NameError",
     "evalue": "name 'ways' is not defined",
     "output_type": "error",
     "traceback": [
      "\u001b[0;31m---------------------------------------------------------------------------\u001b[0m",
      "\u001b[0;31mNameError\u001b[0m                                 Traceback (most recent call last)",
      "\u001b[0;32m<ipython-input-4-4f59565ff539>\u001b[0m in \u001b[0;36m<module>\u001b[0;34m\u001b[0m\n\u001b[0;32m----> 1\u001b[0;31m \u001b[0mmodel\u001b[0m \u001b[0;34m=\u001b[0m \u001b[0mresnet\u001b[0m\u001b[0;34m.\u001b[0m\u001b[0mResNet18S\u001b[0m\u001b[0;34m(\u001b[0m\u001b[0mout_dim\u001b[0m\u001b[0;34m=\u001b[0m\u001b[0mways\u001b[0m\u001b[0;34m)\u001b[0m\u001b[0;34m.\u001b[0m\u001b[0mto\u001b[0m\u001b[0;34m(\u001b[0m\u001b[0mdevice\u001b[0m\u001b[0;34m)\u001b[0m\u001b[0;34m\u001b[0m\u001b[0;34m\u001b[0m\u001b[0m\n\u001b[0m\u001b[1;32m      2\u001b[0m \u001b[0mprint\u001b[0m\u001b[0;34m(\u001b[0m\u001b[0mmodel\u001b[0m\u001b[0;34m)\u001b[0m\u001b[0;34m\u001b[0m\u001b[0;34m\u001b[0m\u001b[0m\n\u001b[1;32m      3\u001b[0m \u001b[0;31m# model = resnet18(pretrained=True).to(device)\u001b[0m\u001b[0;34m\u001b[0m\u001b[0;34m\u001b[0m\u001b[0;34m\u001b[0m\u001b[0m\n\u001b[1;32m      4\u001b[0m \u001b[0;31m# for param in model.parameters():\u001b[0m\u001b[0;34m\u001b[0m\u001b[0;34m\u001b[0m\u001b[0;34m\u001b[0m\u001b[0m\n\u001b[1;32m      5\u001b[0m \u001b[0;31m#     param.requires_grad = False\u001b[0m\u001b[0;34m\u001b[0m\u001b[0;34m\u001b[0m\u001b[0;34m\u001b[0m\u001b[0m\n",
      "\u001b[0;31mNameError\u001b[0m: name 'ways' is not defined"
     ]
    }
   ],
   "source": [
    "model = resnet.ResNet18S(out_dim=ways).to(device)\n",
    "print(model)\n",
    "# model = resnet18(pretrained=True).to(device)\n",
    "# for param in model.parameters():\n",
    "#     param.requires_grad = False\n",
    "# num_ftrs = model.fc.in_features\n",
    "\n",
    "# num_ftrs \n",
    "# model.fc = nn.Linear(num_ftrs, ways).to(device)\n",
    "\n",
    "# print(model(torch.rand((1,3,84,84)).to(device)))\n",
    "# torchsummary.summary(model, input_size= (3, 84, 84))"
   ]
  },
  {
   "cell_type": "code",
   "execution_count": 18,
   "metadata": {},
   "outputs": [],
   "source": [
    "# print(model.conv1.weight[0].grad)"
   ]
  },
  {
   "cell_type": "code",
   "execution_count": 19,
   "metadata": {},
   "outputs": [],
   "source": [
    "\n",
    "\n",
    "# def main(argv):\n",
    "    "
   ]
  },
  {
   "cell_type": "code",
   "execution_count": null,
   "metadata": {
    "scrolled": true
   },
   "outputs": [
    {
     "name": "stdout",
     "output_type": "stream",
     "text": [
      "Files already downloaded and verified\n",
      "Files already downloaded and verified\n"
     ]
    },
    {
     "name": "stderr",
     "output_type": "stream",
     "text": [
      "wandb: Currently logged in as: hikmatkhan- (use `wandb login --relogin` to force relogin)\n"
     ]
    },
    {
     "data": {
      "text/html": [
       "\n",
       "                Tracking run with wandb version 0.12.0<br/>\n",
       "                Syncing run <strong style=\"color:#cdcd00\">fallen-plant-15</strong> to <a href=\"https://wandb.ai\" target=\"_blank\">Weights & Biases</a> <a href=\"https://docs.wandb.com/integrations/jupyter.html\" target=\"_blank\">(Documentation)</a>.<br/>\n",
       "                Project page: <a href=\"https://wandb.ai/hikmatkhan-/JOmniGlot\" target=\"_blank\">https://wandb.ai/hikmatkhan-/JOmniGlot</a><br/>\n",
       "                Run page: <a href=\"https://wandb.ai/hikmatkhan-/JOmniGlot/runs/119qp9h7\" target=\"_blank\">https://wandb.ai/hikmatkhan-/JOmniGlot/runs/119qp9h7</a><br/>\n",
       "                Run data is saved locally in <code>/home/hikmat/Desktop/JWorkSpace/Higher/src/wandb/run-20210818_212943-119qp9h7</code><br/><br/>\n",
       "            "
      ],
      "text/plain": [
       "<IPython.core.display.HTML object>"
      ]
     },
     "metadata": {},
     "output_type": "display_data"
    },
    {
     "name": "stdout",
     "output_type": "stream",
     "text": [
      "Meta-Update\n",
      "Epoch| 0 | Meta Train Acc: 0.2500000037252903  Meta Train Loss: 9.923666954040527 Meta Val Acc: 0.20000000298023224  Meta Val Loss: 2.7088354612703396e+19 Meta Test Acc: 0.20000000298023224  Meta Test Loss: 3.064112517167553e+19\n",
      "Meta-Update\n",
      "Epoch| 1 | Meta Train Acc: 0.20000000298023224  Meta Train Loss: 14.696087121963501 Meta Val Acc: 0.20000000298023224  Meta Val Loss: 8.436266073807913e+17 Meta Test Acc: 0.20000000298023224  Meta Test Loss: 1.442807607831036e+18\n",
      "Meta-Update\n",
      "Epoch| 2 | Meta Train Acc: 0.15000000223517418  Meta Train Loss: 11.2800572514534 Meta Val Acc: 0.20000000298023224  Meta Val Loss: 6.705109153590804e+17 Meta Test Acc: 0.20000000298023224  Meta Test Loss: 6.342605667471196e+17\n",
      "Meta-Update\n",
      "Epoch| 3 | Meta Train Acc: 0.2500000037252903  Meta Train Loss: 7.840957283973694 Meta Val Acc: 0.20000000298023224  Meta Val Loss: 4.661701324906169e+17 Meta Test Acc: 0.20000000298023224  Meta Test Loss: 2.7086214473449475e+17\n",
      "Meta-Update\n",
      "Epoch| 4 | Meta Train Acc: 0.2500000037252903  Meta Train Loss: 9.983377456665039 Meta Val Acc: 0.20000000298023224  Meta Val Loss: 2.3322426398788813e+17 Meta Test Acc: 0.20000000298023224  Meta Test Loss: 2.693078003650396e+17\n",
      "Meta-Update\n",
      "Epoch| 5 | Meta Train Acc: 0.15000000223517418  Meta Train Loss: 10.573853969573975 Meta Val Acc: 0.20000000298023224  Meta Val Loss: 1.721129664082084e+17 Meta Test Acc: 0.20000000298023224  Meta Test Loss: 1.643410845734011e+17\n",
      "Meta-Update\n",
      "Epoch| 6 | Meta Train Acc: 0.20000000298023224  Meta Train Loss: 12.956754684448242 Meta Val Acc: 0.20000000298023224  Meta Val Loss: 1.0644947379368755e+17 Meta Test Acc: 0.20000000298023224  Meta Test Loss: 1.6176551724004147e+17\n",
      "Meta-Update\n",
      "Epoch| 7 | Meta Train Acc: 0.20000000298023224  Meta Train Loss: 9.849519610404966 Meta Val Acc: 0.20000000298023224  Meta Val Loss: 1.2820551466745856e+17 Meta Test Acc: 0.20000000298023224  Meta Test Loss: 1.552252763331625e+17\n",
      "Meta-Update\n",
      "Epoch| 8 | Meta Train Acc: 0.2500000037252903  Meta Train Loss: 8.268102526664734 Meta Val Acc: 0.20000000298023224  Meta Val Loss: 2.4868094719557632e+17 Meta Test Acc: 0.20000000298023224  Meta Test Loss: 2.692285388910756e+17\n",
      "Meta-Update\n",
      "Epoch| 9 | Meta Train Acc: 0.20000000298023224  Meta Train Loss: 11.764165163040161 Meta Val Acc: 0.20000000298023224  Meta Val Loss: 7.105961973199667e+17 Meta Test Acc: 0.20000000298023224  Meta Test Loss: 1.0453527687782728e+18\n",
      "Meta-Update\n",
      "Epoch| 10 | Meta Train Acc: 0.30000000447034836  Meta Train Loss: 8.937526524066925 Meta Val Acc: 0.20000000298023224  Meta Val Loss: 2.62005869342045e+18 Meta Test Acc: 0.20000000298023224  Meta Test Loss: 2.6592726725458657e+18\n",
      "Meta-Update\n",
      "Epoch| 11 | Meta Train Acc: 0.15000000223517418  Meta Train Loss: 14.175553560256958 Meta Val Acc: 0.20000000298023224  Meta Val Loss: 4.4353277893059543e+18 Meta Test Acc: 0.20000000298023224  Meta Test Loss: 5.775371054675395e+18\n",
      "Meta-Update\n",
      "Epoch| 12 | Meta Train Acc: 0.15000000223517418  Meta Train Loss: 8.987972497940063 Meta Val Acc: 0.20000000298023224  Meta Val Loss: 6.796463451574108e+18 Meta Test Acc: 0.20000000298023224  Meta Test Loss: 4.2115375906349384e+18\n",
      "Meta-Update\n",
      "Epoch| 13 | Meta Train Acc: 0.30000000447034836  Meta Train Loss: 8.179528951644897 Meta Val Acc: 0.20000000298023224  Meta Val Loss: 6.790529662196908e+18 Meta Test Acc: 0.20000000298023224  Meta Test Loss: 8.392182134344778e+18\n",
      "Meta-Update\n",
      "Epoch| 14 | Meta Train Acc: 0.2500000037252903  Meta Train Loss: 9.83278489112854 Meta Val Acc: 0.20000000298023224  Meta Val Loss: 8.687508414944772e+18 Meta Test Acc: 0.20000000298023224  Meta Test Loss: 9.460233779512607e+18\n",
      "Meta-Update\n",
      "Epoch| 15 | Meta Train Acc: 0.2500000037252903  Meta Train Loss: 10.620193839073181 Meta Val Acc: 0.20000000298023224  Meta Val Loss: 1.1118141046108717e+19 Meta Test Acc: 0.20000000298023224  Meta Test Loss: 1.2478335473397268e+19\n",
      "Meta-Update\n",
      "Epoch| 16 | Meta Train Acc: 0.30000000447034836  Meta Train Loss: 6.275931537151337 Meta Val Acc: 0.20000000298023224  Meta Val Loss: 1.4260088788552463e+21 Meta Test Acc: 0.20000000298023224  Meta Test Loss: 1.427065887761539e+21\n",
      "Meta-Update\n",
      "Epoch| 17 | Meta Train Acc: 0.15000000223517418  Meta Train Loss: 12.340959072113037 Meta Val Acc: 0.20000000298023224  Meta Val Loss: 1.1748612299962335e+21 Meta Test Acc: 0.20000000298023224  Meta Test Loss: 1.3156455839351838e+21\n",
      "Meta-Update\n",
      "Epoch| 18 | Meta Train Acc: 0.15000000223517418  Meta Train Loss: 12.810118198394775 Meta Val Acc: 0.20000000298023224  Meta Val Loss: 8.062866716766042e+20 Meta Test Acc: 0.20000000298023224  Meta Test Loss: 9.3878966236482e+20\n",
      "Meta-Update\n",
      "Epoch| 19 | Meta Train Acc: 0.2500000037252903  Meta Train Loss: 10.06419324874878 Meta Val Acc: 0.20000000298023224  Meta Val Loss: 7.476981126711183e+20 Meta Test Acc: 0.20000000298023224  Meta Test Loss: 7.27221590967697e+20\n",
      "Meta-Update\n",
      "Epoch| 20 | Meta Train Acc: 0.10000000149011612  Meta Train Loss: 10.473921060562134 Meta Val Acc: 0.20000000298023224  Meta Val Loss: 5.121480478028055e+20 Meta Test Acc: 0.20000000298023224  Meta Test Loss: 6.958024656618583e+20\n",
      "Meta-Update\n",
      "Epoch| 21 | Meta Train Acc: 0.15000000223517418  Meta Train Loss: 18.088855981826782 Meta Val Acc: 0.20000000298023224  Meta Val Loss: 4.143195020987382e+20 Meta Test Acc: 0.20000000298023224  Meta Test Loss: 4.6969245578590945e+20\n",
      "Meta-Update\n",
      "Epoch| 22 | Meta Train Acc: 0.30000000819563866  Meta Train Loss: 11.915695786476135 Meta Val Acc: 0.20000000298023224  Meta Val Loss: 3.72162295547388e+20 Meta Test Acc: 0.20000000298023224  Meta Test Loss: 3.341456518741492e+20\n",
      "Meta-Update\n",
      "Epoch| 23 | Meta Train Acc: 0.2500000037252903  Meta Train Loss: 11.43453049659729 Meta Val Acc: 0.20000000298023224  Meta Val Loss: 3.365620573746055e+20 Meta Test Acc: 0.20000000298023224  Meta Test Loss: 3.2335129762352805e+20\n",
      "Meta-Update\n",
      "Epoch| 24 | Meta Train Acc: 0.20000000298023224  Meta Train Loss: 11.246372699737549 Meta Val Acc: 0.20000000298023224  Meta Val Loss: 4.228305137460964e+20 Meta Test Acc: 0.20000000298023224  Meta Test Loss: 4.7260434080826026e+20\n",
      "Meta-Update\n",
      "Epoch| 25 | Meta Train Acc: 0.20000000298023224  Meta Train Loss: 8.837173223495483 Meta Val Acc: 0.20000000298023224  Meta Val Loss: 3.59703685312593e+20 Meta Test Acc: 0.20000000298023224  Meta Test Loss: 2.803122167760038e+20\n",
      "Meta-Update\n",
      "Epoch| 26 | Meta Train Acc: 0.30000000447034836  Meta Train Loss: 17.105190753936768 Meta Val Acc: 0.20000000298023224  Meta Val Loss: 3.174592391106485e+20 Meta Test Acc: 0.20000000298023224  Meta Test Loss: 2.7788867764410647e+20\n",
      "Meta-Update\n",
      "Epoch| 27 | Meta Train Acc: 0.20000000298023227  Meta Train Loss: 11.477238893508911 Meta Val Acc: 0.20000000298023224  Meta Val Loss: 3.0442124782066677e+20 Meta Test Acc: 0.20000000298023224  Meta Test Loss: 3.233431612374825e+20\n",
      "Meta-Update\n",
      "Epoch| 28 | Meta Train Acc: 0.2500000037252903  Meta Train Loss: 13.548426866531372 Meta Val Acc: 0.20000000298023224  Meta Val Loss: 1.8861759135660114e+20 Meta Test Acc: 0.20000000298023224  Meta Test Loss: 2.0778420328520168e+20\n",
      "Meta-Update\n",
      "Epoch| 29 | Meta Train Acc: 0.20000000298023224  Meta Train Loss: 15.593254804611206 Meta Val Acc: 0.20000000298023224  Meta Val Loss: 9.933883927402696e+19 Meta Test Acc: 0.20000000298023224  Meta Test Loss: 1.03893651953996e+20\n",
      "Meta-Update\n",
      "Epoch| 30 | Meta Train Acc: 0.2500000037252903  Meta Train Loss: 12.971576690673828 Meta Val Acc: 0.20000000298023224  Meta Val Loss: 5.075580089693058e+19 Meta Test Acc: 0.20000000298023224  Meta Test Loss: 7.618968188041245e+19\n",
      "Meta-Update\n",
      "Epoch| 31 | Meta Train Acc: 0.20000000298023224  Meta Train Loss: 15.844146728515625 Meta Val Acc: 0.20000000298023224  Meta Val Loss: 3.2958007277632094e+19 Meta Test Acc: 0.20000000298023224  Meta Test Loss: 3.2806241687650173e+19\n",
      "Meta-Update\n",
      "Epoch| 32 | Meta Train Acc: 0.20000000298023224  Meta Train Loss: 10.669413566589355 Meta Val Acc: 0.20000000298023224  Meta Val Loss: 2.2289754641211064e+19 Meta Test Acc: 0.20000000298023224  Meta Test Loss: 2.5104266638928118e+19\n",
      "Meta-Update\n",
      "Epoch| 33 | Meta Train Acc: 0.20000000298023224  Meta Train Loss: 10.689773082733154 Meta Val Acc: 0.20000000298023224  Meta Val Loss: 1.4254093756377596e+19 Meta Test Acc: 0.20000000298023224  Meta Test Loss: 1.6211891857376936e+19\n"
     ]
    },
    {
     "name": "stdout",
     "output_type": "stream",
     "text": [
      "Meta-Update\n",
      "Epoch| 34 | Meta Train Acc: 0.20000000298023224  Meta Train Loss: 15.516556024551392 Meta Val Acc: 0.20000000298023224  Meta Val Loss: 6.915868215327326e+18 Meta Test Acc: 0.20000000298023224  Meta Test Loss: 1.0055194639587082e+19\n",
      "Meta-Update\n",
      "Epoch| 35 | Meta Train Acc: 0.20000000298023224  Meta Train Loss: 12.475780725479126 Meta Val Acc: 0.20000000298023224  Meta Val Loss: 5.699645627286159e+18 Meta Test Acc: 0.20000000298023224  Meta Test Loss: 6.744078182141395e+18\n",
      "Meta-Update\n",
      "Epoch| 36 | Meta Train Acc: 0.2500000037252903  Meta Train Loss: 8.919274926185608 Meta Val Acc: 0.20000000298023224  Meta Val Loss: 6.240453478108365e+18 Meta Test Acc: 0.20000000298023224  Meta Test Loss: 5.767795694437925e+18\n",
      "Meta-Update\n",
      "Epoch| 37 | Meta Train Acc: 0.2500000037252903  Meta Train Loss: 11.961472153663635 Meta Val Acc: 0.20000000298023224  Meta Val Loss: 5.315563675715633e+18 Meta Test Acc: 0.20000000298023224  Meta Test Loss: 5.309918920457585e+18\n",
      "Meta-Update\n",
      "Epoch| 38 | Meta Train Acc: 0.20000000298023224  Meta Train Loss: 15.230561971664429 Meta Val Acc: 0.20000000298023224  Meta Val Loss: 5.246560799857574e+18 Meta Test Acc: 0.20000000298023224  Meta Test Loss: 5.181949648318759e+18\n",
      "Meta-Update\n",
      "Epoch| 39 | Meta Train Acc: 0.20000000298023224  Meta Train Loss: 12.851895332336426 Meta Val Acc: 0.20000000298023224  Meta Val Loss: 5.059694125792625e+18 Meta Test Acc: 0.20000000298023224  Meta Test Loss: 4.203942301749215e+18\n",
      "Meta-Update\n"
     ]
    }
   ],
   "source": [
    "\n",
    "meta_lr_lst = [0.01, 0.05, 0.09, 0.001, 0.005, 0.009]\n",
    "fast_lr_lst = [0.1, 0.5, 0.9, 0.01, 0.05, 0.09, 0.001, 0.005, 0.009]\n",
    "adaptation_steps_lst = [1, 5]\n",
    "shots_lst = [1, 5]\n",
    "meta_batch_lst = [4]\n",
    "\n",
    "epochs = 1000\n",
    "ways = 5\n",
    "dataset_name = \"omniglot\"\n",
    "model = resnet.ResNet18S(out_dim=ways).to(device)\n",
    "\n",
    "for meta_lr in meta_lr_lst:\n",
    "    for fast_lr in fast_lr_lst:\n",
    "        for adaptation_steps in adaptation_steps_lst:\n",
    "            for shots in shots_lst:\n",
    "                for meta_batch in meta_batch_lst:\n",
    "\n",
    "        #             meta_lr = 0.005\n",
    "        #             fast_lr = 0.01\n",
    "        #             adaptation_steps = 1\n",
    "                    optim_meta = optim.Adam(model.parameters(), lr=meta_lr)\n",
    "                    epochs = 1000\n",
    "                    # pp = ProgressPlot(plot_names=[\"ACC\", \"LOSS\"],\n",
    "                    #                   line_names=[\"SS\", \"QS\"])\n",
    "                    tasksets = l2l.vision.benchmarks.get_tasksets(dataset_name,\n",
    "                                              train_samples=2*shots,\n",
    "                                              train_ways=ways,\n",
    "                                              test_samples=2*shots,\n",
    "                                              test_ways=ways,\n",
    "                                              root='~/data',\n",
    "                                              num_tasks=-1)\n",
    "\n",
    "\n",
    "\n",
    "                    WANDB_LOGGER = True\n",
    "                    if(WANDB_LOGGER):\n",
    "                        import wandb\n",
    "                        wandb.init(project=\"JOmniGlot\", entity=\"hikmatkhan-\", reinit=True)\n",
    "                        wandb.watch(model, log_freq=10)\n",
    "                        wandb.log({\"Dataset\":dataset_name,\n",
    "                                  \"Ways\":ways,\n",
    "                                  \"Shots\":shots,\n",
    "                                  \"Meta Batch\": meta_batch,\n",
    "                                  \"Meta_lr\": meta_lr,\n",
    "                                  \"Fast_lr\": fast_lr,\n",
    "                                  \"Adaptation Step\": adaptation_steps})\n",
    "        #             if __name__ == \"__main__\":\n",
    "\n",
    "                #     meta_train_spt_loss = mlogger.metric.Average()\n",
    "                #     meta_train_spt_acc = mlogger.metric.Average()\n",
    "                #     meta_train_qry_loss = mlogger.metric.Average()\n",
    "                #     meta_train_qry_acc = mlogger.metric.Average()\n",
    "\n",
    "                    for e in range(epochs):\n",
    "                        optim_meta.zero_grad()\n",
    "                        model.train()\n",
    "                        meta_train_loss = mlogger.metric.Average()\n",
    "                        meta_train_acc = mlogger.metric.Average()\n",
    "                        meta_val_loss = mlogger.metric.Average()\n",
    "                        meta_val_acc = mlogger.metric.Average()\n",
    "                        meta_test_loss = mlogger.metric.Average()\n",
    "                        meta_test_acc = mlogger.metric.Average()\n",
    "                        for t in range(meta_batch):\n",
    "                            X, y = tasksets.train.sample()\n",
    "\n",
    "                            X, y = X.to(device), y.to(device)\n",
    "                #             print(X.size())\n",
    "                            meta_train_indices, meta_test_indices = get_indices(X=X, ways=ways, shots=shots)\n",
    "                            optim_fast = optim.Adam(model.parameters(), lr=fast_lr)\n",
    "                            with higher.innerloop_ctx(model=model, opt=optim_fast, copy_initial_weights=False\n",
    "                                                     ) as (fmodel, diff_opp):\n",
    "\n",
    "\n",
    "                #                 print(fmodel.conv1.weight[0].grad)\n",
    "                                for a in range(adaptation_steps):\n",
    "                                    y_prd = fmodel(X[meta_train_indices])\n",
    "                #                     a_meta_train_spt_acc.update(accuracy(y_prd, y[meta_train_indices]))\n",
    "                                    meta_train_spt_loss = F.cross_entropy(y_prd, y[meta_train_indices])\n",
    "                #                     a_meta_train_spt_loss.update(meta_train_spt_loss.detach().cpu().item())\n",
    "                                    diff_opp.step(meta_train_spt_loss)\n",
    "                #                 meta_train_spt_loss.update(a_meta_train_spt_loss.value)\n",
    "                #                 meta_train_spt_acc.update(a_meta_train_spt_acc.value)\n",
    "\n",
    "                                y_prd = fmodel(X[meta_test_indices])\n",
    "                                meta_train_acc.update(accuracy(y_prd, y[meta_test_indices]))\n",
    "                                meta_train_qry_loss = F.cross_entropy(y_prd, y[meta_test_indices])\n",
    "                                meta_train_loss.update(meta_train_qry_loss.detach().cpu().item())\n",
    "\n",
    "                                meta_train_qry_loss.backward()\n",
    "\n",
    "\n",
    "                        optim_meta.step()\n",
    "                        if(WANDB_LOGGER):\n",
    "                            wandb.log({\"Meta Update\": e})\n",
    "                        print(\"Meta-Update\")\n",
    "\n",
    "                        for t in range(meta_batch):\n",
    "                            model.eval()\n",
    "                            X_val, y_val = tasksets.validation.sample()\n",
    "                            X_val, y_val = X_val.to(device), y_val.to(device)\n",
    "\n",
    "                #             print(X.size())\n",
    "                            meta_train_indices, meta_test_indices = get_indices(X=X_val, ways=ways, shots=shots)\n",
    "                            optim_fast = optim.Adam(model.parameters(), lr=fast_lr)\n",
    "                            with higher.innerloop_ctx(model=model, opt=optim_fast,  track_higher_grads=False\n",
    "                                                     ) as (fmodel, diff_opp):\n",
    "\n",
    "\n",
    "                #                 print(fmodel.conv1.weight[0].grad)\n",
    "                                for a in range(adaptation_steps):\n",
    "                                    y_prd = fmodel(X_val[meta_train_indices])\n",
    "                #                     a_meta_train_spt_acc.update(accuracy(y_prd, y[meta_train_indices]))\n",
    "                                    meta_val_spt_loss = F.cross_entropy(y_prd, y_val[meta_train_indices])\n",
    "                #                     a_meta_train_spt_loss.update(meta_train_spt_loss.detach().cpu().item())\n",
    "                                    diff_opp.step(meta_val_spt_loss)\n",
    "                #                 meta_train_spt_loss.update(a_meta_train_spt_loss.value)\n",
    "                #                 meta_train_spt_acc.update(a_meta_train_spt_acc.value)\n",
    "\n",
    "                                y_prd = fmodel(X_val[meta_test_indices])\n",
    "                                meta_val_acc.update(accuracy(y_prd, y_val[meta_test_indices]))\n",
    "                                meta_val_qry_loss = F.cross_entropy(y_prd, y_val[meta_test_indices])\n",
    "                                meta_val_loss.update(meta_val_qry_loss.detach().cpu().item())\n",
    "\n",
    "\n",
    "\n",
    "                        for t in range(meta_batch):\n",
    "                            model.eval()\n",
    "                            X_test, y_test = tasksets.test.sample()\n",
    "                            X_test, y_test = X_test.to(device), y_test.to(device)\n",
    "\n",
    "                            meta_train_indices, meta_test_indices = get_indices(X=X_test, ways=ways, shots=shots)\n",
    "                            optim_fast = optim.Adam(model.parameters(), lr=fast_lr)\n",
    "                            with higher.innerloop_ctx(model=model, opt=optim_fast,  track_higher_grads=False\n",
    "                                                     ) as (fmodel, diff_opp):\n",
    "\n",
    "\n",
    "                #                 print(fmodel.conv1.weight[0].grad)\n",
    "                                for a in range(adaptation_steps):\n",
    "                                    y_prd = fmodel(X_test[meta_train_indices])\n",
    "                #                     a_meta_train_spt_acc.update(accuracy(y_prd, y[meta_train_indices]))\n",
    "                                    meta_test_spt_loss = F.cross_entropy(y_prd, y_test[meta_train_indices])\n",
    "                #                     a_meta_train_spt_loss.update(meta_train_spt_loss.detach().cpu().item())\n",
    "                                    diff_opp.step(meta_test_spt_loss)\n",
    "                #                 meta_train_spt_loss.update(a_meta_train_spt_loss.value)\n",
    "                #                 meta_train_spt_acc.update(a_meta_train_spt_acc.value)\n",
    "\n",
    "                                y_prd = fmodel(X_test[meta_test_indices])\n",
    "                                meta_test_acc.update(accuracy(y_prd, y_test[meta_test_indices]))\n",
    "                                meta_test_qry_loss = F.cross_entropy(y_prd, y_test[meta_test_indices])\n",
    "                                meta_test_loss.update(meta_test_qry_loss.detach().cpu().item())\n",
    "\n",
    "\n",
    "                #                 meta_train_qry_loss.backward()\n",
    "\n",
    "                        if(WANDB_LOGGER):\n",
    "                            wandb.log({\n",
    "                                   \"Meta Train Acc\": meta_train_acc.value,\n",
    "                                   \"Meta Train Loss\": meta_train_loss.value,\n",
    "                                    \"Meta Val Acc\": meta_val_acc.value,\n",
    "                                    \"Meta Val Loss\": meta_val_loss.value,\n",
    "                                    \"Meta Test Acc\": meta_test_acc.value,\n",
    "                                    \"Meta Test Loss\": meta_test_loss.value\n",
    "                                   })\n",
    "                        print(\"Epoch|\", e, \"|\", \"Meta Train Acc:\", meta_train_acc.value, \" Meta Train Loss:\", meta_train_loss.value,\n",
    "                             \"Meta Val Acc:\", meta_val_acc.value, \" Meta Val Loss:\", meta_val_loss.value,\n",
    "                             \"Meta Test Acc:\", meta_test_acc.value, \" Meta Test Loss:\", meta_test_loss.value)\n",
    "\n",
    "\n",
    "                        meta_train_loss.reset()\n",
    "                        meta_train_acc.reset()\n",
    "                        meta_val_loss.reset()\n",
    "                        meta_val_acc.reset()\n",
    "                        meta_test_loss.reset()\n",
    "                        meta_test_acc.reset()\n",
    "\n",
    "                \n",
    "    "
   ]
  },
  {
   "cell_type": "code",
   "execution_count": null,
   "metadata": {},
   "outputs": [],
   "source": [
    "# from jupyterplot import ProgressPlot\n",
    "# import numpy as np\n",
    "# import time\n",
    "# pp = ProgressPlot(line_names=[\"cos\", \"no-cos\"])\n",
    "# for i in range(1000):\n",
    "#     pp.update([[np.sin(i / 100), np.sin(i / 100) * 0.1]])\n",
    "#     time.sleep(0.01)\n",
    "# pp.finalize()"
   ]
  },
  {
   "cell_type": "code",
   "execution_count": null,
   "metadata": {},
   "outputs": [],
   "source": []
  }
 ],
 "metadata": {
  "kernelspec": {
   "display_name": "Python 3",
   "language": "python",
   "name": "python3"
  },
  "language_info": {
   "codemirror_mode": {
    "name": "ipython",
    "version": 3
   },
   "file_extension": ".py",
   "mimetype": "text/x-python",
   "name": "python",
   "nbconvert_exporter": "python",
   "pygments_lexer": "ipython3",
   "version": "3.6.10"
  }
 },
 "nbformat": 4,
 "nbformat_minor": 4
}
