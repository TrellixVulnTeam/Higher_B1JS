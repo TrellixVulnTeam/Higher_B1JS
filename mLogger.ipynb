{
 "cells": [
  {
   "cell_type": "code",
   "execution_count": 3,
   "metadata": {},
   "outputs": [],
   "source": [
    "# https://github.com/oval-group/mlogger\n",
    "# pip install mlogger\n",
    "import mlogger"
   ]
  },
  {
   "cell_type": "code",
   "execution_count": 7,
   "metadata": {},
   "outputs": [
    {
     "name": "stdout",
     "output_type": "stream",
     "text": [
      "92.5\n",
      "97.5\n"
     ]
    }
   ],
   "source": [
    "acc = mlogger.metric.Average()\n",
    "acc.update(93)\n",
    "acc.update(92)\n",
    "print(acc.value)  # 96.0\n",
    "# acc.log()  # internally stores value of 96.0 with automatic time-stamp\n",
    "acc.reset()  # reset average value\n",
    "acc.update(100)\n",
    "acc.update(95)\n",
    "print(acc.value)  # 96.0"
   ]
  },
  {
   "cell_type": "code",
   "execution_count": null,
   "metadata": {},
   "outputs": [],
   "source": []
  }
 ],
 "metadata": {
  "kernelspec": {
   "display_name": "Python 3",
   "language": "python",
   "name": "python3"
  },
  "language_info": {
   "codemirror_mode": {
    "name": "ipython",
    "version": 3
   },
   "file_extension": ".py",
   "mimetype": "text/x-python",
   "name": "python",
   "nbconvert_exporter": "python",
   "pygments_lexer": "ipython3",
   "version": "3.6.10"
  }
 },
 "nbformat": 4,
 "nbformat_minor": 4
}